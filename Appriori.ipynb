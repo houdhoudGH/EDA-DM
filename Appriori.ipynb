{
 "cells": [
  {
   "cell_type": "markdown",
   "metadata": {},
   "source": [
    "# TP 03 Appriori "
   ]
  },
  {
   "cell_type": "code",
   "execution_count": 1,
   "metadata": {},
   "outputs": [],
   "source": [
    "import pandas as pd\n",
    "import numpy as np\n",
    "import matplotlib.pyplot as plt\n",
    "\n",
    "%matplotlib inline"
   ]
  },
  {
   "cell_type": "code",
   "execution_count": 2,
   "metadata": {},
   "outputs": [],
   "source": [
    "df=pd.read_csv('../../Databases/diabetes.csv')"
   ]
  },
  {
   "cell_type": "code",
   "execution_count": 3,
   "metadata": {},
   "outputs": [
    {
     "data": {
      "text/html": [
       "<div>\n",
       "<style scoped>\n",
       "    .dataframe tbody tr th:only-of-type {\n",
       "        vertical-align: middle;\n",
       "    }\n",
       "\n",
       "    .dataframe tbody tr th {\n",
       "        vertical-align: top;\n",
       "    }\n",
       "\n",
       "    .dataframe thead th {\n",
       "        text-align: right;\n",
       "    }\n",
       "</style>\n",
       "<table border=\"1\" class=\"dataframe\">\n",
       "  <thead>\n",
       "    <tr style=\"text-align: right;\">\n",
       "      <th></th>\n",
       "      <th>Pregnancies</th>\n",
       "      <th>Glucose</th>\n",
       "      <th>BloodPressure</th>\n",
       "      <th>SkinThickness</th>\n",
       "      <th>Insulin</th>\n",
       "      <th>BMI</th>\n",
       "      <th>DiabetesPedigreeFunction</th>\n",
       "      <th>Age</th>\n",
       "      <th>Outcome</th>\n",
       "    </tr>\n",
       "  </thead>\n",
       "  <tbody>\n",
       "    <tr>\n",
       "      <th>0</th>\n",
       "      <td>6</td>\n",
       "      <td>148</td>\n",
       "      <td>72</td>\n",
       "      <td>35</td>\n",
       "      <td>0</td>\n",
       "      <td>33.6</td>\n",
       "      <td>0.627</td>\n",
       "      <td>50</td>\n",
       "      <td>1</td>\n",
       "    </tr>\n",
       "    <tr>\n",
       "      <th>1</th>\n",
       "      <td>1</td>\n",
       "      <td>85</td>\n",
       "      <td>66</td>\n",
       "      <td>29</td>\n",
       "      <td>0</td>\n",
       "      <td>26.6</td>\n",
       "      <td>0.351</td>\n",
       "      <td>31</td>\n",
       "      <td>0</td>\n",
       "    </tr>\n",
       "    <tr>\n",
       "      <th>2</th>\n",
       "      <td>8</td>\n",
       "      <td>183</td>\n",
       "      <td>64</td>\n",
       "      <td>0</td>\n",
       "      <td>0</td>\n",
       "      <td>23.3</td>\n",
       "      <td>0.672</td>\n",
       "      <td>32</td>\n",
       "      <td>1</td>\n",
       "    </tr>\n",
       "    <tr>\n",
       "      <th>3</th>\n",
       "      <td>1</td>\n",
       "      <td>89</td>\n",
       "      <td>66</td>\n",
       "      <td>23</td>\n",
       "      <td>94</td>\n",
       "      <td>28.1</td>\n",
       "      <td>0.167</td>\n",
       "      <td>21</td>\n",
       "      <td>0</td>\n",
       "    </tr>\n",
       "    <tr>\n",
       "      <th>4</th>\n",
       "      <td>0</td>\n",
       "      <td>137</td>\n",
       "      <td>40</td>\n",
       "      <td>35</td>\n",
       "      <td>168</td>\n",
       "      <td>43.1</td>\n",
       "      <td>2.288</td>\n",
       "      <td>33</td>\n",
       "      <td>1</td>\n",
       "    </tr>\n",
       "  </tbody>\n",
       "</table>\n",
       "</div>"
      ],
      "text/plain": [
       "   Pregnancies  Glucose  BloodPressure  SkinThickness  Insulin   BMI  \\\n",
       "0            6      148             72             35        0  33.6   \n",
       "1            1       85             66             29        0  26.6   \n",
       "2            8      183             64              0        0  23.3   \n",
       "3            1       89             66             23       94  28.1   \n",
       "4            0      137             40             35      168  43.1   \n",
       "\n",
       "   DiabetesPedigreeFunction  Age  Outcome  \n",
       "0                     0.627   50        1  \n",
       "1                     0.351   31        0  \n",
       "2                     0.672   32        1  \n",
       "3                     0.167   21        0  \n",
       "4                     2.288   33        1  "
      ]
     },
     "execution_count": 3,
     "metadata": {},
     "output_type": "execute_result"
    }
   ],
   "source": [
    "df.head()"
   ]
  },
  {
   "cell_type": "code",
   "execution_count": 4,
   "metadata": {},
   "outputs": [
    {
     "data": {
      "text/html": [
       "<div>\n",
       "<style scoped>\n",
       "    .dataframe tbody tr th:only-of-type {\n",
       "        vertical-align: middle;\n",
       "    }\n",
       "\n",
       "    .dataframe tbody tr th {\n",
       "        vertical-align: top;\n",
       "    }\n",
       "\n",
       "    .dataframe thead th {\n",
       "        text-align: right;\n",
       "    }\n",
       "</style>\n",
       "<table border=\"1\" class=\"dataframe\">\n",
       "  <thead>\n",
       "    <tr style=\"text-align: right;\">\n",
       "      <th></th>\n",
       "      <th>Pregnancies</th>\n",
       "      <th>Glucose</th>\n",
       "      <th>BloodPressure</th>\n",
       "      <th>SkinThickness</th>\n",
       "      <th>Insulin</th>\n",
       "      <th>BMI</th>\n",
       "      <th>DiabetesPedigreeFunction</th>\n",
       "      <th>Age</th>\n",
       "      <th>Outcome</th>\n",
       "    </tr>\n",
       "  </thead>\n",
       "  <tbody>\n",
       "    <tr>\n",
       "      <th>count</th>\n",
       "      <td>768.000000</td>\n",
       "      <td>768.000000</td>\n",
       "      <td>768.000000</td>\n",
       "      <td>768.000000</td>\n",
       "      <td>768.000000</td>\n",
       "      <td>768.000000</td>\n",
       "      <td>768.000000</td>\n",
       "      <td>768.000000</td>\n",
       "      <td>768.000000</td>\n",
       "    </tr>\n",
       "    <tr>\n",
       "      <th>mean</th>\n",
       "      <td>3.845052</td>\n",
       "      <td>120.894531</td>\n",
       "      <td>69.105469</td>\n",
       "      <td>20.536458</td>\n",
       "      <td>79.799479</td>\n",
       "      <td>31.992578</td>\n",
       "      <td>0.471876</td>\n",
       "      <td>33.240885</td>\n",
       "      <td>0.348958</td>\n",
       "    </tr>\n",
       "    <tr>\n",
       "      <th>std</th>\n",
       "      <td>3.369578</td>\n",
       "      <td>31.972618</td>\n",
       "      <td>19.355807</td>\n",
       "      <td>15.952218</td>\n",
       "      <td>115.244002</td>\n",
       "      <td>7.884160</td>\n",
       "      <td>0.331329</td>\n",
       "      <td>11.760232</td>\n",
       "      <td>0.476951</td>\n",
       "    </tr>\n",
       "    <tr>\n",
       "      <th>min</th>\n",
       "      <td>0.000000</td>\n",
       "      <td>0.000000</td>\n",
       "      <td>0.000000</td>\n",
       "      <td>0.000000</td>\n",
       "      <td>0.000000</td>\n",
       "      <td>0.000000</td>\n",
       "      <td>0.078000</td>\n",
       "      <td>21.000000</td>\n",
       "      <td>0.000000</td>\n",
       "    </tr>\n",
       "    <tr>\n",
       "      <th>25%</th>\n",
       "      <td>1.000000</td>\n",
       "      <td>99.000000</td>\n",
       "      <td>62.000000</td>\n",
       "      <td>0.000000</td>\n",
       "      <td>0.000000</td>\n",
       "      <td>27.300000</td>\n",
       "      <td>0.243750</td>\n",
       "      <td>24.000000</td>\n",
       "      <td>0.000000</td>\n",
       "    </tr>\n",
       "    <tr>\n",
       "      <th>50%</th>\n",
       "      <td>3.000000</td>\n",
       "      <td>117.000000</td>\n",
       "      <td>72.000000</td>\n",
       "      <td>23.000000</td>\n",
       "      <td>30.500000</td>\n",
       "      <td>32.000000</td>\n",
       "      <td>0.372500</td>\n",
       "      <td>29.000000</td>\n",
       "      <td>0.000000</td>\n",
       "    </tr>\n",
       "    <tr>\n",
       "      <th>75%</th>\n",
       "      <td>6.000000</td>\n",
       "      <td>140.250000</td>\n",
       "      <td>80.000000</td>\n",
       "      <td>32.000000</td>\n",
       "      <td>127.250000</td>\n",
       "      <td>36.600000</td>\n",
       "      <td>0.626250</td>\n",
       "      <td>41.000000</td>\n",
       "      <td>1.000000</td>\n",
       "    </tr>\n",
       "    <tr>\n",
       "      <th>max</th>\n",
       "      <td>17.000000</td>\n",
       "      <td>199.000000</td>\n",
       "      <td>122.000000</td>\n",
       "      <td>99.000000</td>\n",
       "      <td>846.000000</td>\n",
       "      <td>67.100000</td>\n",
       "      <td>2.420000</td>\n",
       "      <td>81.000000</td>\n",
       "      <td>1.000000</td>\n",
       "    </tr>\n",
       "  </tbody>\n",
       "</table>\n",
       "</div>"
      ],
      "text/plain": [
       "       Pregnancies     Glucose  BloodPressure  SkinThickness     Insulin  \\\n",
       "count   768.000000  768.000000     768.000000     768.000000  768.000000   \n",
       "mean      3.845052  120.894531      69.105469      20.536458   79.799479   \n",
       "std       3.369578   31.972618      19.355807      15.952218  115.244002   \n",
       "min       0.000000    0.000000       0.000000       0.000000    0.000000   \n",
       "25%       1.000000   99.000000      62.000000       0.000000    0.000000   \n",
       "50%       3.000000  117.000000      72.000000      23.000000   30.500000   \n",
       "75%       6.000000  140.250000      80.000000      32.000000  127.250000   \n",
       "max      17.000000  199.000000     122.000000      99.000000  846.000000   \n",
       "\n",
       "              BMI  DiabetesPedigreeFunction         Age     Outcome  \n",
       "count  768.000000                768.000000  768.000000  768.000000  \n",
       "mean    31.992578                  0.471876   33.240885    0.348958  \n",
       "std      7.884160                  0.331329   11.760232    0.476951  \n",
       "min      0.000000                  0.078000   21.000000    0.000000  \n",
       "25%     27.300000                  0.243750   24.000000    0.000000  \n",
       "50%     32.000000                  0.372500   29.000000    0.000000  \n",
       "75%     36.600000                  0.626250   41.000000    1.000000  \n",
       "max     67.100000                  2.420000   81.000000    1.000000  "
      ]
     },
     "execution_count": 4,
     "metadata": {},
     "output_type": "execute_result"
    }
   ],
   "source": [
    "df.describe()"
   ]
  },
  {
   "cell_type": "code",
   "execution_count": 5,
   "metadata": {},
   "outputs": [
    {
     "data": {
      "text/plain": [
       "(768, 9)"
      ]
     },
     "execution_count": 5,
     "metadata": {},
     "output_type": "execute_result"
    }
   ],
   "source": [
    "df.shape"
   ]
  },
  {
   "cell_type": "code",
   "execution_count": 6,
   "metadata": {},
   "outputs": [
    {
     "name": "stdout",
     "output_type": "stream",
     "text": [
      "<class 'pandas.core.frame.DataFrame'>\n",
      "RangeIndex: 768 entries, 0 to 767\n",
      "Data columns (total 9 columns):\n",
      " #   Column                    Non-Null Count  Dtype  \n",
      "---  ------                    --------------  -----  \n",
      " 0   Pregnancies               768 non-null    int64  \n",
      " 1   Glucose                   768 non-null    int64  \n",
      " 2   BloodPressure             768 non-null    int64  \n",
      " 3   SkinThickness             768 non-null    int64  \n",
      " 4   Insulin                   768 non-null    int64  \n",
      " 5   BMI                       768 non-null    float64\n",
      " 6   DiabetesPedigreeFunction  768 non-null    float64\n",
      " 7   Age                       768 non-null    int64  \n",
      " 8   Outcome                   768 non-null    int64  \n",
      "dtypes: float64(2), int64(7)\n",
      "memory usage: 54.1 KB\n"
     ]
    }
   ],
   "source": [
    "df.info()"
   ]
  },
  {
   "cell_type": "code",
   "execution_count": 7,
   "metadata": {},
   "outputs": [
    {
     "data": {
      "text/plain": [
       "<Axes: >"
      ]
     },
     "execution_count": 7,
     "metadata": {},
     "output_type": "execute_result"
    },
    {
     "data": {
      "image/png": "[encoded data removed]",
      "text/plain": [
       "<Figure size 640x480 with 1 Axes>"
      ]
     },
     "metadata": {},
     "output_type": "display_data"
    }
   ],
   "source": [
    "df.boxplot(column='Pregnancies')\n"
   ]
  },
  {
   "cell_type": "code",
   "execution_count": 8,
   "metadata": {},
   "outputs": [
    {
     "data": {
      "text/plain": [
       "Pregnancies\n",
       "1     135\n",
       "0     111\n",
       "2     103\n",
       "3      75\n",
       "4      68\n",
       "5      57\n",
       "6      50\n",
       "7      45\n",
       "8      38\n",
       "9      28\n",
       "10     24\n",
       "11     11\n",
       "13     10\n",
       "12      9\n",
       "14      2\n",
       "17      1\n",
       "15      1\n",
       "Name: count, dtype: int64"
      ]
     },
     "execution_count": 8,
     "metadata": {},
     "output_type": "execute_result"
    }
   ],
   "source": [
    "df['Pregnancies'].value_counts(ascending=False)"
   ]
  },
  {
   "cell_type": "code",
   "execution_count": 9,
   "metadata": {},
   "outputs": [
    {
     "data": {
      "text/plain": [
       "Glucose\n",
       "99     17\n",
       "100    17\n",
       "111    14\n",
       "125    14\n",
       "129    14\n",
       "       ..\n",
       "56      1\n",
       "169     1\n",
       "149     1\n",
       "65      1\n",
       "190     1\n",
       "Name: count, Length: 136, dtype: int64"
      ]
     },
     "execution_count": 9,
     "metadata": {},
     "output_type": "execute_result"
    }
   ],
   "source": [
    "df['Glucose'].value_counts(ascending=False)"
   ]
  },
  {
   "cell_type": "code",
   "execution_count": 10,
   "metadata": {},
   "outputs": [
    {
     "data": {
      "text/plain": [
       "BloodPressure\n",
       "70     57\n",
       "74     52\n",
       "78     45\n",
       "68     45\n",
       "72     44\n",
       "64     43\n",
       "80     40\n",
       "76     39\n",
       "60     37\n",
       "0      35\n",
       "62     34\n",
       "66     30\n",
       "82     30\n",
       "88     25\n",
       "84     23\n",
       "90     22\n",
       "86     21\n",
       "58     21\n",
       "50     13\n",
       "56     12\n",
       "54     11\n",
       "52     11\n",
       "92      8\n",
       "75      8\n",
       "65      7\n",
       "85      6\n",
       "94      6\n",
       "48      5\n",
       "44      4\n",
       "96      4\n",
       "110     3\n",
       "106     3\n",
       "100     3\n",
       "98      3\n",
       "30      2\n",
       "46      2\n",
       "55      2\n",
       "104     2\n",
       "108     2\n",
       "40      1\n",
       "122     1\n",
       "95      1\n",
       "102     1\n",
       "61      1\n",
       "24      1\n",
       "38      1\n",
       "114     1\n",
       "Name: count, dtype: int64"
      ]
     },
     "execution_count": 10,
     "metadata": {},
     "output_type": "execute_result"
    }
   ],
   "source": [
    "df['BloodPressure'].value_counts(ascending=False)"
   ]
  },
  {
   "cell_type": "code",
   "execution_count": 11,
   "metadata": {},
   "outputs": [
    {
     "data": {
      "text/plain": [
       "BMI\n",
       "32.0    13\n",
       "31.6    12\n",
       "31.2    12\n",
       "0.0     11\n",
       "32.4    10\n",
       "        ..\n",
       "49.6     1\n",
       "24.1     1\n",
       "41.2     1\n",
       "49.3     1\n",
       "46.3     1\n",
       "Name: count, Length: 248, dtype: int64"
      ]
     },
     "execution_count": 11,
     "metadata": {},
     "output_type": "execute_result"
    }
   ],
   "source": [
    "df['BMI'].value_counts(ascending=False)"
   ]
  },
  {
   "cell_type": "code",
   "execution_count": 12,
   "metadata": {},
   "outputs": [
    {
     "data": {
      "text/plain": [
       "Pregnancies                 111\n",
       "Glucose                       5\n",
       "BloodPressure                35\n",
       "SkinThickness               227\n",
       "Insulin                     374\n",
       "BMI                          11\n",
       "DiabetesPedigreeFunction      0\n",
       "Age                           0\n",
       "Outcome                     500\n",
       "dtype: int64"
      ]
     },
     "execution_count": 12,
     "metadata": {},
     "output_type": "execute_result"
    }
   ],
   "source": [
    "df.eq(0).sum()\n"
   ]
  },
  {
   "cell_type": "code",
   "execution_count": 13,
   "metadata": {},
   "outputs": [],
   "source": [
    "m=df['Glucose'].mean()"
   ]
  },
  {
   "cell_type": "code",
   "execution_count": 14,
   "metadata": {},
   "outputs": [
    {
     "data": {
      "text/plain": [
       "120"
      ]
     },
     "execution_count": 14,
     "metadata": {},
     "output_type": "execute_result"
    }
   ],
   "source": [
    "int(m)"
   ]
  },
  {
   "cell_type": "code",
   "execution_count": 15,
   "metadata": {},
   "outputs": [
    {
     "name": "stderr",
     "output_type": "stream",
     "text": [
      "C:\\Users\\nourg\\AppData\\Local\\Temp\\ipykernel_2284\\3662678415.py:3: FutureWarning: A value is trying to be set on a copy of a DataFrame or Series through chained assignment using an inplace method.\n",
      "The behavior will change in pandas 3.0. This inplace method will never work because the intermediate object on which we are setting values always behaves as a copy.\n",
      "\n",
      "For example, when doing 'df[col].method(value, inplace=True)', try using 'df.method({col: value}, inplace=True)' or df[col] = df[col].method(value) instead, to perform the operation inplace on the original object.\n",
      "\n",
      "\n",
      "  df['Glucose'].replace(0,int(m),inplace=True)\n"
     ]
    }
   ],
   "source": [
    "for i in df['Glucose']:\n",
    "    if i==0:\n",
    "        df['Glucose'].replace(0,int(m),inplace=True)\n",
    "        break   "
   ]
  },
  {
   "cell_type": "code",
   "execution_count": 16,
   "metadata": {},
   "outputs": [
    {
     "name": "stderr",
     "output_type": "stream",
     "text": [
      "C:\\Users\\nourg\\AppData\\Local\\Temp\\ipykernel_2284\\1953799899.py:5: FutureWarning: A value is trying to be set on a copy of a DataFrame or Series through chained assignment using an inplace method.\n",
      "The behavior will change in pandas 3.0. This inplace method will never work because the intermediate object on which we are setting values always behaves as a copy.\n",
      "\n",
      "For example, when doing 'df[col].method(value, inplace=True)', try using 'df.method({col: value}, inplace=True)' or df[col] = df[col].method(value) instead, to perform the operation inplace on the original object.\n",
      "\n",
      "\n",
      "  df['BloodPressure'].replace(0,int(m),inplace=True)\n"
     ]
    }
   ],
   "source": [
    "m=df['BloodPressure'].mean()\n",
    "\n",
    "for i in df['BloodPressure']:\n",
    "    if i==0:\n",
    "        df['BloodPressure'].replace(0,int(m),inplace=True)\n",
    "        break   "
   ]
  },
  {
   "cell_type": "code",
   "execution_count": 17,
   "metadata": {},
   "outputs": [
    {
     "name": "stderr",
     "output_type": "stream",
     "text": [
      "C:\\Users\\nourg\\AppData\\Local\\Temp\\ipykernel_2284\\1084722041.py:5: FutureWarning: A value is trying to be set on a copy of a DataFrame or Series through chained assignment using an inplace method.\n",
      "The behavior will change in pandas 3.0. This inplace method will never work because the intermediate object on which we are setting values always behaves as a copy.\n",
      "\n",
      "For example, when doing 'df[col].method(value, inplace=True)', try using 'df.method({col: value}, inplace=True)' or df[col] = df[col].method(value) instead, to perform the operation inplace on the original object.\n",
      "\n",
      "\n",
      "  df['BMI'].replace(0,int(m),inplace=True)\n"
     ]
    }
   ],
   "source": [
    "m=df['BMI'].mean()\n",
    "\n",
    "for i in df['BMI']:\n",
    "    if i==0:\n",
    "        df['BMI'].replace(0,int(m),inplace=True)\n",
    "        break   "
   ]
  },
  {
   "cell_type": "code",
   "execution_count": 18,
   "metadata": {},
   "outputs": [
    {
     "data": {
      "text/plain": [
       "Pregnancies                 111\n",
       "Glucose                       0\n",
       "BloodPressure                 0\n",
       "SkinThickness               227\n",
       "Insulin                     374\n",
       "BMI                           0\n",
       "DiabetesPedigreeFunction      0\n",
       "Age                           0\n",
       "Outcome                     500\n",
       "dtype: int64"
      ]
     },
     "execution_count": 18,
     "metadata": {},
     "output_type": "execute_result"
    }
   ],
   "source": [
    "df.eq(0).sum()"
   ]
  },
  {
   "cell_type": "code",
   "execution_count": 19,
   "metadata": {},
   "outputs": [
    {
     "data": {
      "text/plain": [
       "Age\n",
       "22    72\n",
       "21    63\n",
       "25    48\n",
       "24    46\n",
       "23    38\n",
       "28    35\n",
       "26    33\n",
       "27    32\n",
       "29    29\n",
       "31    24\n",
       "41    22\n",
       "30    21\n",
       "37    19\n",
       "42    18\n",
       "33    17\n",
       "36    16\n",
       "38    16\n",
       "32    16\n",
       "45    15\n",
       "34    14\n",
       "46    13\n",
       "40    13\n",
       "43    13\n",
       "39    12\n",
       "35    10\n",
       "44     8\n",
       "50     8\n",
       "51     8\n",
       "52     8\n",
       "58     7\n",
       "54     6\n",
       "47     6\n",
       "49     5\n",
       "60     5\n",
       "53     5\n",
       "57     5\n",
       "48     5\n",
       "63     4\n",
       "66     4\n",
       "55     4\n",
       "62     4\n",
       "59     3\n",
       "56     3\n",
       "65     3\n",
       "67     3\n",
       "61     2\n",
       "69     2\n",
       "72     1\n",
       "81     1\n",
       "64     1\n",
       "70     1\n",
       "68     1\n",
       "Name: count, dtype: int64"
      ]
     },
     "execution_count": 19,
     "metadata": {},
     "output_type": "execute_result"
    }
   ],
   "source": [
    "df['Age'].value_counts(ascending=False)"
   ]
  },
  {
   "cell_type": "code",
   "execution_count": 20,
   "metadata": {},
   "outputs": [
    {
     "data": {
      "text/plain": [
       "0"
      ]
     },
     "execution_count": 20,
     "metadata": {},
     "output_type": "execute_result"
    }
   ],
   "source": [
    "df[df['Age']<21].shape[0]"
   ]
  },
  {
   "cell_type": "code",
   "execution_count": 21,
   "metadata": {},
   "outputs": [
    {
     "data": {
      "text/plain": [
       "0"
      ]
     },
     "execution_count": 21,
     "metadata": {},
     "output_type": "execute_result"
    }
   ],
   "source": [
    "df[df['Age']>90].shape[0]"
   ]
  },
  {
   "cell_type": "code",
   "execution_count": 22,
   "metadata": {},
   "outputs": [
    {
     "data": {
      "text/html": [
       "<div>\n",
       "<style scoped>\n",
       "    .dataframe tbody tr th:only-of-type {\n",
       "        vertical-align: middle;\n",
       "    }\n",
       "\n",
       "    .dataframe tbody tr th {\n",
       "        vertical-align: top;\n",
       "    }\n",
       "\n",
       "    .dataframe thead th {\n",
       "        text-align: right;\n",
       "    }\n",
       "</style>\n",
       "<table border=\"1\" class=\"dataframe\">\n",
       "  <thead>\n",
       "    <tr style=\"text-align: right;\">\n",
       "      <th></th>\n",
       "      <th>Pregnancies</th>\n",
       "      <th>Glucose</th>\n",
       "      <th>BloodPressure</th>\n",
       "      <th>SkinThickness</th>\n",
       "      <th>Insulin</th>\n",
       "      <th>BMI</th>\n",
       "      <th>DiabetesPedigreeFunction</th>\n",
       "      <th>Age</th>\n",
       "      <th>Outcome</th>\n",
       "    </tr>\n",
       "  </thead>\n",
       "  <tbody>\n",
       "    <tr>\n",
       "      <th>0</th>\n",
       "      <td>6</td>\n",
       "      <td>148</td>\n",
       "      <td>72</td>\n",
       "      <td>35</td>\n",
       "      <td>0</td>\n",
       "      <td>33.6</td>\n",
       "      <td>0.627</td>\n",
       "      <td>50</td>\n",
       "      <td>1</td>\n",
       "    </tr>\n",
       "    <tr>\n",
       "      <th>1</th>\n",
       "      <td>1</td>\n",
       "      <td>85</td>\n",
       "      <td>66</td>\n",
       "      <td>29</td>\n",
       "      <td>0</td>\n",
       "      <td>26.6</td>\n",
       "      <td>0.351</td>\n",
       "      <td>31</td>\n",
       "      <td>0</td>\n",
       "    </tr>\n",
       "    <tr>\n",
       "      <th>2</th>\n",
       "      <td>8</td>\n",
       "      <td>183</td>\n",
       "      <td>64</td>\n",
       "      <td>0</td>\n",
       "      <td>0</td>\n",
       "      <td>23.3</td>\n",
       "      <td>0.672</td>\n",
       "      <td>32</td>\n",
       "      <td>1</td>\n",
       "    </tr>\n",
       "    <tr>\n",
       "      <th>3</th>\n",
       "      <td>1</td>\n",
       "      <td>89</td>\n",
       "      <td>66</td>\n",
       "      <td>23</td>\n",
       "      <td>94</td>\n",
       "      <td>28.1</td>\n",
       "      <td>0.167</td>\n",
       "      <td>21</td>\n",
       "      <td>0</td>\n",
       "    </tr>\n",
       "    <tr>\n",
       "      <th>4</th>\n",
       "      <td>0</td>\n",
       "      <td>137</td>\n",
       "      <td>40</td>\n",
       "      <td>35</td>\n",
       "      <td>168</td>\n",
       "      <td>43.1</td>\n",
       "      <td>2.288</td>\n",
       "      <td>33</td>\n",
       "      <td>1</td>\n",
       "    </tr>\n",
       "    <tr>\n",
       "      <th>5</th>\n",
       "      <td>5</td>\n",
       "      <td>116</td>\n",
       "      <td>74</td>\n",
       "      <td>0</td>\n",
       "      <td>0</td>\n",
       "      <td>25.6</td>\n",
       "      <td>0.201</td>\n",
       "      <td>30</td>\n",
       "      <td>0</td>\n",
       "    </tr>\n",
       "    <tr>\n",
       "      <th>6</th>\n",
       "      <td>3</td>\n",
       "      <td>78</td>\n",
       "      <td>50</td>\n",
       "      <td>32</td>\n",
       "      <td>88</td>\n",
       "      <td>31.0</td>\n",
       "      <td>0.248</td>\n",
       "      <td>26</td>\n",
       "      <td>1</td>\n",
       "    </tr>\n",
       "    <tr>\n",
       "      <th>7</th>\n",
       "      <td>10</td>\n",
       "      <td>115</td>\n",
       "      <td>69</td>\n",
       "      <td>0</td>\n",
       "      <td>0</td>\n",
       "      <td>35.3</td>\n",
       "      <td>0.134</td>\n",
       "      <td>29</td>\n",
       "      <td>0</td>\n",
       "    </tr>\n",
       "    <tr>\n",
       "      <th>8</th>\n",
       "      <td>2</td>\n",
       "      <td>197</td>\n",
       "      <td>70</td>\n",
       "      <td>45</td>\n",
       "      <td>543</td>\n",
       "      <td>30.5</td>\n",
       "      <td>0.158</td>\n",
       "      <td>53</td>\n",
       "      <td>1</td>\n",
       "    </tr>\n",
       "    <tr>\n",
       "      <th>9</th>\n",
       "      <td>8</td>\n",
       "      <td>125</td>\n",
       "      <td>96</td>\n",
       "      <td>0</td>\n",
       "      <td>0</td>\n",
       "      <td>31.0</td>\n",
       "      <td>0.232</td>\n",
       "      <td>54</td>\n",
       "      <td>1</td>\n",
       "    </tr>\n",
       "  </tbody>\n",
       "</table>\n",
       "</div>"
      ],
      "text/plain": [
       "   Pregnancies  Glucose  BloodPressure  SkinThickness  Insulin   BMI  \\\n",
       "0            6      148             72             35        0  33.6   \n",
       "1            1       85             66             29        0  26.6   \n",
       "2            8      183             64              0        0  23.3   \n",
       "3            1       89             66             23       94  28.1   \n",
       "4            0      137             40             35      168  43.1   \n",
       "5            5      116             74              0        0  25.6   \n",
       "6            3       78             50             32       88  31.0   \n",
       "7           10      115             69              0        0  35.3   \n",
       "8            2      197             70             45      543  30.5   \n",
       "9            8      125             96              0        0  31.0   \n",
       "\n",
       "   DiabetesPedigreeFunction  Age  Outcome  \n",
       "0                     0.627   50        1  \n",
       "1                     0.351   31        0  \n",
       "2                     0.672   32        1  \n",
       "3                     0.167   21        0  \n",
       "4                     2.288   33        1  \n",
       "5                     0.201   30        0  \n",
       "6                     0.248   26        1  \n",
       "7                     0.134   29        0  \n",
       "8                     0.158   53        1  \n",
       "9                     0.232   54        1  "
      ]
     },
     "execution_count": 22,
     "metadata": {},
     "output_type": "execute_result"
    }
   ],
   "source": [
    "df.head(10)"
   ]
  },
  {
   "cell_type": "code",
   "execution_count": 23,
   "metadata": {},
   "outputs": [
    {
     "name": "stdout",
     "output_type": "stream",
     "text": [
      "Age\n",
      "41    16\n",
      "42    13\n",
      "45    11\n",
      "43    11\n",
      "39    10\n",
      "31     8\n",
      "36     8\n",
      "40     8\n",
      "46     8\n",
      "38     8\n",
      "32     7\n",
      "51     7\n",
      "34     7\n",
      "50     7\n",
      "37     7\n",
      "29     6\n",
      "54     5\n",
      "28     5\n",
      "49     5\n",
      "58     5\n",
      "33     5\n",
      "57     4\n",
      "47     4\n",
      "48     4\n",
      "44     4\n",
      "35     3\n",
      "60     3\n",
      "55     3\n",
      "66     3\n",
      "24     2\n",
      "30     2\n",
      "56     2\n",
      "27     2\n",
      "52     2\n",
      "26     2\n",
      "53     2\n",
      "61     1\n",
      "23     1\n",
      "64     1\n",
      "67     1\n",
      "59     1\n",
      "81     1\n",
      "62     1\n",
      "68     1\n",
      "22     1\n",
      "63     1\n",
      "Name: count, dtype: int64\n"
     ]
    }
   ],
   "source": [
    "preg = df[df['Pregnancies']>5]\n",
    "print(preg['Age'].value_counts())"
   ]
  },
  {
   "cell_type": "code",
   "execution_count": 24,
   "metadata": {},
   "outputs": [],
   "source": [
    "age = df[df['Age']<25]"
   ]
  },
  {
   "cell_type": "code",
   "execution_count": 25,
   "metadata": {},
   "outputs": [
    {
     "name": "stdout",
     "output_type": "stream",
     "text": [
      "Pregnancies\n",
      "1    72\n",
      "0    55\n",
      "2    51\n",
      "3    23\n",
      "4    13\n",
      "6     2\n",
      "7     1\n",
      "5     1\n",
      "8     1\n",
      "Name: count, dtype: int64\n"
     ]
    }
   ],
   "source": [
    "print(age['Pregnancies'].value_counts())"
   ]
  },
  {
   "cell_type": "code",
   "execution_count": 26,
   "metadata": {},
   "outputs": [
    {
     "data": {
      "text/plain": [
       "<Axes: >"
      ]
     },
     "execution_count": 26,
     "metadata": {},
     "output_type": "execute_result"
    },
    {
     "data": {
      "image/png": "[encoded data removed]",
      "text/plain": [
       "<Figure size 640x480 with 1 Axes>"
      ]
     },
     "metadata": {},
     "output_type": "display_data"
    }
   ],
   "source": [
    "df.boxplot(column='Pregnancies')"
   ]
  },
  {
   "cell_type": "code",
   "execution_count": 27,
   "metadata": {},
   "outputs": [
    {
     "data": {
      "text/plain": [
       "<Axes: >"
      ]
     },
     "execution_count": 27,
     "metadata": {},
     "output_type": "execute_result"
    },
    {
     "data": {
      "image/png": "[encoded data removed]",
      "text/plain": [
       "<Figure size 640x480 with 1 Axes>"
      ]
     },
     "metadata": {},
     "output_type": "display_data"
    }
   ],
   "source": [
    "df.boxplot(column='Glucose')"
   ]
  },
  {
   "cell_type": "code",
   "execution_count": 28,
   "metadata": {},
   "outputs": [
    {
     "data": {
      "text/plain": [
       "<Axes: >"
      ]
     },
     "execution_count": 28,
     "metadata": {},
     "output_type": "execute_result"
    },
    {
     "data": {
      "image/png": "[encoded data removed]",
      "text/plain": [
       "<Figure size 640x480 with 1 Axes>"
      ]
     },
     "metadata": {},
     "output_type": "display_data"
    }
   ],
   "source": [
    "df.boxplot(column='BloodPressure')"
   ]
  },
  {
   "cell_type": "code",
   "execution_count": 29,
   "metadata": {},
   "outputs": [
    {
     "data": {
      "text/plain": [
       "<Axes: >"
      ]
     },
     "execution_count": 29,
     "metadata": {},
     "output_type": "execute_result"
    },
    {
     "data": {
      "image/png": "[encoded data removed]",
      "text/plain": [
       "<Figure size 640x480 with 1 Axes>"
      ]
     },
     "metadata": {},
     "output_type": "display_data"
    }
   ],
   "source": [
    "df.boxplot(column='BMI')"
   ]
  },
  {
   "cell_type": "code",
   "execution_count": 30,
   "metadata": {},
   "outputs": [
    {
     "data": {
      "text/plain": [
       "<Axes: >"
      ]
     },
     "execution_count": 30,
     "metadata": {},
     "output_type": "execute_result"
    },
    {
     "data": {
      "image/png": "[encoded data removed]",
      "text/plain": [
       "<Figure size 640x480 with 1 Axes>"
      ]
     },
     "metadata": {},
     "output_type": "display_data"
    }
   ],
   "source": [
    "df.boxplot(column='Age')"
   ]
  },
  {
   "cell_type": "code",
   "execution_count": 31,
   "metadata": {},
   "outputs": [],
   "source": [
    "df = df[df['SkinThickness']<90]\n"
   ]
  },
  {
   "cell_type": "code",
   "execution_count": 32,
   "metadata": {},
   "outputs": [
    {
     "data": {
      "text/plain": [
       "<Axes: >"
      ]
     },
     "execution_count": 32,
     "metadata": {},
     "output_type": "execute_result"
    },
    {
     "data": {
      "image/png": "[encoded data removed]",
      "text/plain": [
       "<Figure size 640x480 with 1 Axes>"
      ]
     },
     "metadata": {},
     "output_type": "display_data"
    }
   ],
   "source": [
    "df.boxplot(column='SkinThickness')"
   ]
  },
  {
   "cell_type": "code",
   "execution_count": 33,
   "metadata": {},
   "outputs": [
    {
     "data": {
      "text/plain": [
       "<Axes: >"
      ]
     },
     "execution_count": 33,
     "metadata": {},
     "output_type": "execute_result"
    },
    {
     "data": {
      "image/png": "[encoded data removed]",
      "text/plain": [
       "<Figure size 640x480 with 1 Axes>"
      ]
     },
     "metadata": {},
     "output_type": "display_data"
    }
   ],
   "source": [
    "df.boxplot(column='Insulin')"
   ]
  },
  {
   "cell_type": "code",
   "execution_count": 34,
   "metadata": {},
   "outputs": [
    {
     "data": {
      "text/plain": [
       "<Axes: >"
      ]
     },
     "execution_count": 34,
     "metadata": {},
     "output_type": "execute_result"
    },
    {
     "data": {
      "image/png": "[encoded data removed]",
      "text/plain": [
       "<Figure size 640x480 with 1 Axes>"
      ]
     },
     "metadata": {},
     "output_type": "display_data"
    }
   ],
   "source": [
    "df.boxplot(column='DiabetesPedigreeFunction')"
   ]
  },
  {
   "cell_type": "markdown",
   "metadata": {},
   "source": [
    "# Algo Appriori"
   ]
  },
  {
   "cell_type": "code",
   "execution_count": 35,
   "metadata": {},
   "outputs": [],
   "source": [
    "from itertools import combinations\n",
    "\n",
    "df_bin = pd.DataFrame()\n",
    "df_bin['Glucose_High'] = df['Glucose'] > 120\n",
    "df_bin['BMI_High'] = df['BMI'] > 30\n",
    "df_bin['Age_High'] = df['Age'] > 40\n",
    "df_bin['Pregnancies_Many'] = df['Pregnancies'] > 5\n",
    "df_bin['BloodPressure_High'] = df['BloodPressure'] > 80\n",
    "df_bin['Insulin_High'] = df['Insulin'] > 100\n",
    "df_bin['SkinThickness_High'] = df['SkinThickness'] > 20\n",
    "df_bin['DiabetesPedigree_High'] = df['DiabetesPedigreeFunction'] > 0.5\n",
    "df_bin['Outcome_Positive'] = df['Outcome'] == 1\n",
    "\n",
    "transactions = df_bin.apply(lambda row: frozenset([col for col in df_bin.columns if row[col]]), axis=1).tolist()"
   ]
  },
  {
   "cell_type": "code",
   "execution_count": 36,
   "metadata": {},
   "outputs": [],
   "source": [
    "def get_support(itemset, transactions):\n",
    "    return sum(1 for transaction in transactions if itemset.issubset(transaction)) / len(transactions)"
   ]
  },
  {
   "cell_type": "code",
   "execution_count": 37,
   "metadata": {},
   "outputs": [],
   "source": [
    "def generate_candidates(frequent_itemsets, k):\n",
    "    candidates = set()\n",
    "    itemsets = list(frequent_itemsets)\n",
    "    for i in range(len(itemsets)):\n",
    "        for j in range(i+1, len(itemsets)):\n",
    "            union = itemsets[i] | itemsets[j]\n",
    "            if len(union) == k:\n",
    "                candidates.add(union)\n",
    "    return candidates"
   ]
  },
  {
   "cell_type": "code",
   "execution_count": 38,
   "metadata": {},
   "outputs": [],
   "source": [
    "def apriori(transactions, min_support=0.1):\n",
    "    item_counts = {}\n",
    "    for transaction in transactions:\n",
    "        for item in transaction:\n",
    "            itemset = frozenset([item])\n",
    "            item_counts[itemset] = item_counts.get(itemset, 0) + 1\n",
    "    n_transactions = len(transactions)\n",
    "    \n",
    "    # Niveau 1\n",
    "    frequent_itemsets = {itemset for itemset, count in item_counts.items() if count / n_transactions >= min_support}\n",
    "    support_data = {itemset: count / n_transactions for itemset, count in item_counts.items() if itemset in frequent_itemsets}\n",
    "    \n",
    "    all_frequent_itemsets = frequent_itemsets.copy()\n",
    "    k = 2\n",
    "    current_frequent = frequent_itemsets\n",
    "    \n",
    "    while current_frequent:\n",
    "        candidates = generate_candidates(current_frequent, k)\n",
    "        item_counts = {}\n",
    "        for transaction in transactions:\n",
    "            for candidate in candidates:\n",
    "                if candidate.issubset(transaction):\n",
    "                    item_counts[candidate] = item_counts.get(candidate, 0) + 1\n",
    "        current_frequent = {itemset for itemset, count in item_counts.items() if count / n_transactions >= min_support}\n",
    "        support_data.update({itemset: count / n_transactions for itemset, count in item_counts.items() if itemset in current_frequent})\n",
    "        all_frequent_itemsets |= current_frequent\n",
    "        k += 1\n",
    "\n",
    "    return all_frequent_itemsets, support_data\n"
   ]
  },
  {
   "cell_type": "code",
   "execution_count": 39,
   "metadata": {},
   "outputs": [],
   "source": [
    "frequent_itemsets, support_data = apriori(transactions, min_support=0.1)"
   ]
  },
  {
   "cell_type": "code",
   "execution_count": 40,
   "metadata": {},
   "outputs": [
    {
     "data": {
      "text/plain": [
       "{frozenset({'BMI_High', 'DiabetesPedigree_High', 'SkinThickness_High'}),\n",
       " frozenset({'BMI_High', 'Glucose_High', 'Insulin_High'}),\n",
       " frozenset({'DiabetesPedigree_High', 'SkinThickness_High'}),\n",
       " frozenset({'BMI_High', 'SkinThickness_High'}),\n",
       " frozenset({'BloodPressure_High', 'Outcome_Positive'}),\n",
       " frozenset({'BMI_High', 'DiabetesPedigree_High', 'Glucose_High'}),\n",
       " frozenset({'Glucose_High', 'Pregnancies_Many'}),\n",
       " frozenset({'Insulin_High'}),\n",
       " frozenset({'Glucose_High',\n",
       "            'Insulin_High',\n",
       "            'Outcome_Positive',\n",
       "            'SkinThickness_High'}),\n",
       " frozenset({'BMI_High', 'Insulin_High'}),\n",
       " frozenset({'DiabetesPedigree_High',\n",
       "            'Outcome_Positive',\n",
       "            'SkinThickness_High'}),\n",
       " frozenset({'Glucose_High', 'Outcome_Positive'}),\n",
       " frozenset({'Pregnancies_Many'}),\n",
       " frozenset({'Outcome_Positive', 'SkinThickness_High'}),\n",
       " frozenset({'Insulin_High', 'Outcome_Positive', 'SkinThickness_High'}),\n",
       " frozenset({'BMI_High', 'Outcome_Positive', 'SkinThickness_High'}),\n",
       " frozenset({'BMI_High',\n",
       "            'Glucose_High',\n",
       "            'Insulin_High',\n",
       "            'Outcome_Positive',\n",
       "            'SkinThickness_High'}),\n",
       " frozenset({'Age_High', 'Outcome_Positive'}),\n",
       " frozenset({'Age_High', 'BMI_High', 'Outcome_Positive'}),\n",
       " frozenset({'BMI_High', 'Pregnancies_Many'}),\n",
       " frozenset({'BMI_High', 'BloodPressure_High', 'SkinThickness_High'}),\n",
       " frozenset({'Age_High'}),\n",
       " frozenset({'BMI_High', 'Insulin_High', 'Outcome_Positive'}),\n",
       " frozenset({'BloodPressure_High', 'SkinThickness_High'}),\n",
       " frozenset({'DiabetesPedigree_High', 'Glucose_High', 'Insulin_High'}),\n",
       " frozenset({'BMI_High', 'Outcome_Positive', 'Pregnancies_Many'}),\n",
       " frozenset({'Glucose_High', 'SkinThickness_High'}),\n",
       " frozenset({'DiabetesPedigree_High', 'Glucose_High', 'SkinThickness_High'}),\n",
       " frozenset({'BMI_High',\n",
       "            'DiabetesPedigree_High',\n",
       "            'Glucose_High',\n",
       "            'SkinThickness_High'}),\n",
       " frozenset({'Age_High', 'BMI_High', 'SkinThickness_High'}),\n",
       " frozenset({'Age_High', 'Glucose_High'}),\n",
       " frozenset({'BMI_High', 'Glucose_High'}),\n",
       " frozenset({'Age_High', 'BMI_High', 'Glucose_High'}),\n",
       " frozenset({'Glucose_High', 'Outcome_Positive', 'Pregnancies_Many'}),\n",
       " frozenset({'DiabetesPedigree_High', 'Insulin_High', 'SkinThickness_High'}),\n",
       " frozenset({'Glucose_High', 'Insulin_High'}),\n",
       " frozenset({'BMI_High',\n",
       "            'DiabetesPedigree_High',\n",
       "            'Insulin_High',\n",
       "            'SkinThickness_High'}),\n",
       " frozenset({'BMI_High', 'Glucose_High', 'Pregnancies_Many'}),\n",
       " frozenset({'Age_High', 'Glucose_High', 'Outcome_Positive'}),\n",
       " frozenset({'BMI_High',\n",
       "            'Glucose_High',\n",
       "            'Outcome_Positive',\n",
       "            'SkinThickness_High'}),\n",
       " frozenset({'BMI_High', 'DiabetesPedigree_High', 'Outcome_Positive'}),\n",
       " frozenset({'BloodPressure_High', 'Glucose_High'}),\n",
       " frozenset({'BMI_High', 'Glucose_High', 'Outcome_Positive'}),\n",
       " frozenset({'Age_High', 'Glucose_High', 'Pregnancies_Many'}),\n",
       " frozenset({'BMI_High', 'Glucose_High', 'Insulin_High', 'Outcome_Positive'}),\n",
       " frozenset({'DiabetesPedigree_High'}),\n",
       " frozenset({'BMI_High',\n",
       "            'DiabetesPedigree_High',\n",
       "            'Glucose_High',\n",
       "            'Outcome_Positive'}),\n",
       " frozenset({'BMI_High', 'Glucose_High', 'SkinThickness_High'}),\n",
       " frozenset({'Glucose_High', 'Insulin_High', 'SkinThickness_High'}),\n",
       " frozenset({'DiabetesPedigree_High', 'Insulin_High'}),\n",
       " frozenset({'Age_High', 'BMI_High', 'Pregnancies_Many'}),\n",
       " frozenset({'SkinThickness_High'}),\n",
       " frozenset({'Outcome_Positive', 'Pregnancies_Many'}),\n",
       " frozenset({'Age_High', 'BMI_High'}),\n",
       " frozenset({'DiabetesPedigree_High', 'Glucose_High'}),\n",
       " frozenset({'Age_High', 'SkinThickness_High'}),\n",
       " frozenset({'BloodPressure_High'}),\n",
       " frozenset({'BMI_High'}),\n",
       " frozenset({'BMI_High', 'BloodPressure_High'}),\n",
       " frozenset({'Glucose_High'}),\n",
       " frozenset({'DiabetesPedigree_High', 'Glucose_High', 'Outcome_Positive'}),\n",
       " frozenset({'Pregnancies_Many', 'SkinThickness_High'}),\n",
       " frozenset({'BMI_High', 'Pregnancies_Many', 'SkinThickness_High'}),\n",
       " frozenset({'Outcome_Positive'}),\n",
       " frozenset({'BMI_High', 'Outcome_Positive'}),\n",
       " frozenset({'Age_High', 'Pregnancies_Many'}),\n",
       " frozenset({'Insulin_High', 'Outcome_Positive'}),\n",
       " frozenset({'Insulin_High', 'SkinThickness_High'}),\n",
       " frozenset({'Glucose_High', 'Outcome_Positive', 'SkinThickness_High'}),\n",
       " frozenset({'DiabetesPedigree_High', 'Outcome_Positive'}),\n",
       " frozenset({'BMI_High', 'BloodPressure_High', 'Glucose_High'}),\n",
       " frozenset({'BMI_High', 'Insulin_High', 'SkinThickness_High'}),\n",
       " frozenset({'DiabetesPedigree_High', 'Pregnancies_Many'}),\n",
       " frozenset({'Glucose_High', 'Insulin_High', 'Outcome_Positive'}),\n",
       " frozenset({'BMI_High',\n",
       "            'DiabetesPedigree_High',\n",
       "            'Outcome_Positive',\n",
       "            'SkinThickness_High'}),\n",
       " frozenset({'BMI_High', 'Glucose_High', 'Insulin_High', 'SkinThickness_High'}),\n",
       " frozenset({'BMI_High', 'DiabetesPedigree_High'}),\n",
       " frozenset({'BMI_High', 'DiabetesPedigree_High', 'Insulin_High'}),\n",
       " frozenset({'BMI_High',\n",
       "            'Insulin_High',\n",
       "            'Outcome_Positive',\n",
       "            'SkinThickness_High'})}"
      ]
     },
     "execution_count": 40,
     "metadata": {},
     "output_type": "execute_result"
    }
   ],
   "source": [
    "frequent_itemsets"
   ]
  },
  {
   "cell_type": "code",
   "execution_count": 41,
   "metadata": {},
   "outputs": [],
   "source": [
    "def generate_rules(frequent_itemsets, support_data, min_confidence=0.7):\n",
    "    rules = []\n",
    "    for itemset in frequent_itemsets:\n",
    "        if len(itemset) >= 2:\n",
    "            for i in range(1, len(itemset)):\n",
    "                for antecedent in combinations(itemset, i):\n",
    "                    antecedent = frozenset(antecedent)\n",
    "                    consequent = itemset - antecedent\n",
    "                    if consequent:\n",
    "                        confidence = support_data[itemset] / support_data.get(antecedent, 1)\n",
    "                        if confidence >= min_confidence:\n",
    "                            rules.append((antecedent, consequent, support_data[itemset], confidence))\n",
    "    return rules"
   ]
  },
  {
   "cell_type": "code",
   "execution_count": 42,
   "metadata": {},
   "outputs": [],
   "source": [
    "rules = generate_rules(frequent_itemsets, support_data)"
   ]
  },
  {
   "cell_type": "code",
   "execution_count": 43,
   "metadata": {},
   "outputs": [
    {
     "data": {
      "text/plain": [
       "[(frozenset({'DiabetesPedigree_High', 'SkinThickness_High'}),\n",
       "  frozenset({'BMI_High'}),\n",
       "  0.17992177314211213,\n",
       "  0.811764705882353),\n",
       " (frozenset({'BMI_High', 'DiabetesPedigree_High'}),\n",
       "  frozenset({'SkinThickness_High'}),\n",
       "  0.17992177314211213,\n",
       "  0.75),\n",
       " (frozenset({'BMI_High', 'Insulin_High'}),\n",
       "  frozenset({'Glucose_High'}),\n",
       "  0.16558018252933507,\n",
       "  0.7055555555555555),\n",
       " (frozenset({'Glucose_High', 'Insulin_High'}),\n",
       "  frozenset({'BMI_High'}),\n",
       "  0.16558018252933507,\n",
       "  0.7604790419161677),\n",
       " (frozenset({'SkinThickness_High'}),\n",
       "  frozenset({'BMI_High'}),\n",
       "  0.4198174706649283,\n",
       "  0.7740384615384616),\n",
       " (frozenset({'DiabetesPedigree_High', 'Glucose_High'}),\n",
       "  frozenset({'BMI_High'}),\n",
       "  0.1421121251629726,\n",
       "  0.7785714285714285),\n",
       " (frozenset({'Insulin_High', 'Outcome_Positive'}),\n",
       "  frozenset({'Glucose_High', 'SkinThickness_High'}),\n",
       "  0.1121251629726206,\n",
       "  0.7747747747747747),\n",
       " (frozenset({'Insulin_High', 'Outcome_Positive', 'SkinThickness_High'}),\n",
       "  frozenset({'Glucose_High'}),\n",
       "  0.1121251629726206,\n",
       "  0.8514851485148515),\n",
       " (frozenset({'Glucose_High', 'Outcome_Positive', 'SkinThickness_High'}),\n",
       "  frozenset({'Insulin_High'}),\n",
       "  0.1121251629726206,\n",
       "  0.7413793103448275),\n",
       " (frozenset({'Glucose_High', 'Insulin_High', 'Outcome_Positive'}),\n",
       "  frozenset({'SkinThickness_High'}),\n",
       "  0.1121251629726206,\n",
       "  0.9148936170212766),\n",
       " (frozenset({'Insulin_High'}),\n",
       "  frozenset({'BMI_High'}),\n",
       "  0.23468057366362452,\n",
       "  0.7407407407407408),\n",
       " (frozenset({'DiabetesPedigree_High', 'Outcome_Positive'}),\n",
       "  frozenset({'SkinThickness_High'}),\n",
       "  0.11603650586701435,\n",
       "  0.7120000000000001),\n",
       " (frozenset({'Outcome_Positive'}),\n",
       "  frozenset({'Glucose_High'}),\n",
       "  0.2529335071707953,\n",
       "  0.7265917602996255),\n",
       " (frozenset({'Insulin_High', 'Outcome_Positive'}),\n",
       "  frozenset({'BMI_High', 'Glucose_High', 'SkinThickness_High'}),\n",
       "  0.10299869621903521,\n",
       "  0.7117117117117118),\n",
       " (frozenset({'BMI_High', 'Insulin_High', 'Outcome_Positive'}),\n",
       "  frozenset({'Glucose_High', 'SkinThickness_High'}),\n",
       "  0.10299869621903521,\n",
       "  0.8315789473684211),\n",
       " (frozenset({'Insulin_High', 'Outcome_Positive', 'SkinThickness_High'}),\n",
       "  frozenset({'BMI_High', 'Glucose_High'}),\n",
       "  0.10299869621903521,\n",
       "  0.7821782178217822),\n",
       " (frozenset({'Glucose_High', 'Insulin_High', 'Outcome_Positive'}),\n",
       "  frozenset({'BMI_High', 'SkinThickness_High'}),\n",
       "  0.10299869621903521,\n",
       "  0.8404255319148937),\n",
       " (frozenset({'BMI_High',\n",
       "             'Insulin_High',\n",
       "             'Outcome_Positive',\n",
       "             'SkinThickness_High'}),\n",
       "  frozenset({'Glucose_High'}),\n",
       "  0.10299869621903521,\n",
       "  0.8586956521739131),\n",
       " (frozenset({'BMI_High', 'Glucose_High', 'Insulin_High', 'Outcome_Positive'}),\n",
       "  frozenset({'SkinThickness_High'}),\n",
       "  0.10299869621903521,\n",
       "  0.9634146341463415),\n",
       " (frozenset({'BMI_High',\n",
       "             'Glucose_High',\n",
       "             'Outcome_Positive',\n",
       "             'SkinThickness_High'}),\n",
       "  frozenset({'Insulin_High'}),\n",
       "  0.10299869621903521,\n",
       "  0.7452830188679246),\n",
       " (frozenset({'Glucose_High',\n",
       "             'Insulin_High',\n",
       "             'Outcome_Positive',\n",
       "             'SkinThickness_High'}),\n",
       "  frozenset({'BMI_High'}),\n",
       "  0.10299869621903521,\n",
       "  0.9186046511627908),\n",
       " (frozenset({'Insulin_High', 'Outcome_Positive'}),\n",
       "  frozenset({'SkinThickness_High'}),\n",
       "  0.1316818774445893,\n",
       "  0.9099099099099099),\n",
       " (frozenset({'Outcome_Positive', 'SkinThickness_High'}),\n",
       "  frozenset({'BMI_High'}),\n",
       "  0.1877444589308996,\n",
       "  0.8888888888888888),\n",
       " (frozenset({'Age_High', 'Outcome_Positive'}),\n",
       "  frozenset({'BMI_High'}),\n",
       "  0.10299869621903521,\n",
       "  0.7821782178217822),\n",
       " (frozenset({'BloodPressure_High', 'SkinThickness_High'}),\n",
       "  frozenset({'BMI_High'}),\n",
       "  0.1121251629726206,\n",
       "  0.8958333333333333),\n",
       " (frozenset({'Insulin_High', 'Outcome_Positive'}),\n",
       "  frozenset({'BMI_High'}),\n",
       "  0.12385919165580182,\n",
       "  0.8558558558558559),\n",
       " (frozenset({'DiabetesPedigree_High', 'Insulin_High'}),\n",
       "  frozenset({'Glucose_High'}),\n",
       "  0.10951760104302477,\n",
       "  0.736842105263158),\n",
       " (frozenset({'Outcome_Positive', 'Pregnancies_Many'}),\n",
       "  frozenset({'BMI_High'}),\n",
       "  0.10821382007822686,\n",
       "  0.7477477477477478),\n",
       " (frozenset({'DiabetesPedigree_High', 'Glucose_High', 'SkinThickness_High'}),\n",
       "  frozenset({'BMI_High'}),\n",
       "  0.10691003911342895,\n",
       "  0.8541666666666666),\n",
       " (frozenset({'BMI_High', 'DiabetesPedigree_High', 'Glucose_High'}),\n",
       "  frozenset({'SkinThickness_High'}),\n",
       "  0.10691003911342895,\n",
       "  0.7522935779816514),\n",
       " (frozenset({'Age_High', 'SkinThickness_High'}),\n",
       "  frozenset({'BMI_High'}),\n",
       "  0.10039113428943937,\n",
       "  0.8105263157894737),\n",
       " (frozenset({'DiabetesPedigree_High', 'Insulin_High'}),\n",
       "  frozenset({'SkinThickness_High'}),\n",
       "  0.12777053455019557,\n",
       "  0.8596491228070177),\n",
       " (frozenset({'Glucose_High'}),\n",
       "  frozenset({'BMI_High'}),\n",
       "  0.3246414602346806,\n",
       "  0.7155172413793104),\n",
       " (frozenset({'DiabetesPedigree_High', 'Insulin_High'}),\n",
       "  frozenset({'BMI_High', 'SkinThickness_High'}),\n",
       "  0.10560625814863103,\n",
       "  0.7105263157894738),\n",
       " (frozenset({'DiabetesPedigree_High', 'Insulin_High', 'SkinThickness_High'}),\n",
       "  frozenset({'BMI_High'}),\n",
       "  0.10560625814863103,\n",
       "  0.8265306122448979),\n",
       " (frozenset({'BMI_High', 'DiabetesPedigree_High', 'Insulin_High'}),\n",
       "  frozenset({'SkinThickness_High'}),\n",
       "  0.10560625814863103,\n",
       "  0.9642857142857143),\n",
       " (frozenset({'Glucose_High', 'Pregnancies_Many'}),\n",
       "  frozenset({'BMI_High'}),\n",
       "  0.1121251629726206,\n",
       "  0.7226890756302521),\n",
       " (frozenset({'Age_High', 'Outcome_Positive'}),\n",
       "  frozenset({'Glucose_High'}),\n",
       "  0.10039113428943937,\n",
       "  0.7623762376237623),\n",
       " (frozenset({'BMI_High', 'Outcome_Positive', 'SkinThickness_High'}),\n",
       "  frozenset({'Glucose_High'}),\n",
       "  0.13820078226857888,\n",
       "  0.736111111111111),\n",
       " (frozenset({'Glucose_High', 'Outcome_Positive', 'SkinThickness_High'}),\n",
       "  frozenset({'BMI_High'}),\n",
       "  0.13820078226857888,\n",
       "  0.9137931034482758),\n",
       " (frozenset({'DiabetesPedigree_High', 'Outcome_Positive'}),\n",
       "  frozenset({'BMI_High'}),\n",
       "  0.13820078226857888,\n",
       "  0.848),\n",
       " (frozenset({'BMI_High', 'Outcome_Positive'}),\n",
       "  frozenset({'Glucose_High'}),\n",
       "  0.21251629726205998,\n",
       "  0.7546296296296297),\n",
       " (frozenset({'Glucose_High', 'Outcome_Positive'}),\n",
       "  frozenset({'BMI_High'}),\n",
       "  0.21251629726205998,\n",
       "  0.8402061855670102),\n",
       " (frozenset({'Insulin_High', 'Outcome_Positive'}),\n",
       "  frozenset({'BMI_High', 'Glucose_High'}),\n",
       "  0.10691003911342895,\n",
       "  0.7387387387387387),\n",
       " (frozenset({'BMI_High', 'Insulin_High', 'Outcome_Positive'}),\n",
       "  frozenset({'Glucose_High'}),\n",
       "  0.10691003911342895,\n",
       "  0.8631578947368421),\n",
       " (frozenset({'Glucose_High', 'Insulin_High', 'Outcome_Positive'}),\n",
       "  frozenset({'BMI_High'}),\n",
       "  0.10691003911342895,\n",
       "  0.8723404255319149),\n",
       " (frozenset({'BMI_High', 'DiabetesPedigree_High', 'Outcome_Positive'}),\n",
       "  frozenset({'Glucose_High'}),\n",
       "  0.10299869621903521,\n",
       "  0.7452830188679246),\n",
       " (frozenset({'BMI_High', 'DiabetesPedigree_High', 'Glucose_High'}),\n",
       "  frozenset({'Outcome_Positive'}),\n",
       "  0.10299869621903521,\n",
       "  0.724770642201835),\n",
       " (frozenset({'DiabetesPedigree_High', 'Glucose_High', 'Outcome_Positive'}),\n",
       "  frozenset({'BMI_High'}),\n",
       "  0.10299869621903521,\n",
       "  0.8876404494382022),\n",
       " (frozenset({'Glucose_High', 'SkinThickness_High'}),\n",
       "  frozenset({'BMI_High'}),\n",
       "  0.21251629726205998,\n",
       "  0.815),\n",
       " (frozenset({'Glucose_High', 'SkinThickness_High'}),\n",
       "  frozenset({'Insulin_High'}),\n",
       "  0.18252933507170796,\n",
       "  0.7),\n",
       " (frozenset({'Glucose_High', 'Insulin_High'}),\n",
       "  frozenset({'SkinThickness_High'}),\n",
       "  0.18252933507170796,\n",
       "  0.8383233532934132),\n",
       " (frozenset({'BloodPressure_High'}),\n",
       "  frozenset({'BMI_High'}),\n",
       "  0.16558018252933507,\n",
       "  0.7696969696969697),\n",
       " (frozenset({'DiabetesPedigree_High', 'Outcome_Positive'}),\n",
       "  frozenset({'Glucose_High'}),\n",
       "  0.11603650586701435,\n",
       "  0.7120000000000001),\n",
       " (frozenset({'Pregnancies_Many', 'SkinThickness_High'}),\n",
       "  frozenset({'BMI_High'}),\n",
       "  0.11994784876140809,\n",
       "  0.773109243697479),\n",
       " (frozenset({'Outcome_Positive'}),\n",
       "  frozenset({'BMI_High'}),\n",
       "  0.2816166883963494,\n",
       "  0.8089887640449438),\n",
       " (frozenset({'Insulin_High'}),\n",
       "  frozenset({'SkinThickness_High'}),\n",
       "  0.2620599739243807,\n",
       "  0.8271604938271605),\n",
       " (frozenset({'Outcome_Positive', 'SkinThickness_High'}),\n",
       "  frozenset({'Glucose_High'}),\n",
       "  0.15123859191655803,\n",
       "  0.7160493827160495),\n",
       " (frozenset({'BloodPressure_High', 'Glucose_High'}),\n",
       "  frozenset({'BMI_High'}),\n",
       "  0.11342894393741851,\n",
       "  0.8130841121495327),\n",
       " (frozenset({'Insulin_High', 'SkinThickness_High'}),\n",
       "  frozenset({'BMI_High'}),\n",
       "  0.21903520208604954,\n",
       "  0.8358208955223881),\n",
       " (frozenset({'BMI_High', 'Insulin_High'}),\n",
       "  frozenset({'SkinThickness_High'}),\n",
       "  0.21903520208604954,\n",
       "  0.9333333333333332),\n",
       " (frozenset({'Insulin_High', 'Outcome_Positive'}),\n",
       "  frozenset({'Glucose_High'}),\n",
       "  0.12255541069100391,\n",
       "  0.8468468468468469),\n",
       " (frozenset({'DiabetesPedigree_High',\n",
       "             'Outcome_Positive',\n",
       "             'SkinThickness_High'}),\n",
       "  frozenset({'BMI_High'}),\n",
       "  0.10691003911342895,\n",
       "  0.9213483146067415),\n",
       " (frozenset({'BMI_High', 'DiabetesPedigree_High', 'Outcome_Positive'}),\n",
       "  frozenset({'SkinThickness_High'}),\n",
       "  0.10691003911342895,\n",
       "  0.7735849056603774),\n",
       " (frozenset({'Glucose_High', 'Insulin_High'}),\n",
       "  frozenset({'BMI_High', 'SkinThickness_High'}),\n",
       "  0.15254237288135594,\n",
       "  0.7005988023952097),\n",
       " (frozenset({'BMI_High', 'Glucose_High', 'SkinThickness_High'}),\n",
       "  frozenset({'Insulin_High'}),\n",
       "  0.15254237288135594,\n",
       "  0.7177914110429449),\n",
       " (frozenset({'BMI_High', 'Glucose_High', 'Insulin_High'}),\n",
       "  frozenset({'SkinThickness_High'}),\n",
       "  0.15254237288135594,\n",
       "  0.9212598425196851),\n",
       " (frozenset({'Glucose_High', 'Insulin_High', 'SkinThickness_High'}),\n",
       "  frozenset({'BMI_High'}),\n",
       "  0.15254237288135594,\n",
       "  0.8357142857142857),\n",
       " (frozenset({'DiabetesPedigree_High', 'Insulin_High'}),\n",
       "  frozenset({'BMI_High'}),\n",
       "  0.10951760104302477,\n",
       "  0.736842105263158),\n",
       " (frozenset({'Insulin_High', 'Outcome_Positive'}),\n",
       "  frozenset({'BMI_High', 'SkinThickness_High'}),\n",
       "  0.11994784876140809,\n",
       "  0.8288288288288289),\n",
       " (frozenset({'Insulin_High', 'Outcome_Positive', 'SkinThickness_High'}),\n",
       "  frozenset({'BMI_High'}),\n",
       "  0.11994784876140809,\n",
       "  0.9108910891089109),\n",
       " (frozenset({'BMI_High', 'Insulin_High', 'Outcome_Positive'}),\n",
       "  frozenset({'SkinThickness_High'}),\n",
       "  0.11994784876140809,\n",
       "  0.968421052631579)]"
      ]
     },
     "execution_count": 43,
     "metadata": {},
     "output_type": "execute_result"
    }
   ],
   "source": [
    "rules"
   ]
  },
  {
   "cell_type": "code",
   "execution_count": 44,
   "metadata": {},
   "outputs": [
    {
     "name": "stdout",
     "output_type": "stream",
     "text": [
      "Règles extraites :\n",
      "{'SkinThickness_High', 'DiabetesPedigree_High'} => {'BMI_High'} | support: 0.18, confidence: 0.81\n",
      "{'BMI_High', 'DiabetesPedigree_High'} => {'SkinThickness_High'} | support: 0.18, confidence: 0.75\n",
      "{'BMI_High', 'Insulin_High'} => {'Glucose_High'} | support: 0.17, confidence: 0.71\n",
      "{'Insulin_High', 'Glucose_High'} => {'BMI_High'} | support: 0.17, confidence: 0.76\n",
      "{'SkinThickness_High'} => {'BMI_High'} | support: 0.42, confidence: 0.77\n",
      "{'DiabetesPedigree_High', 'Glucose_High'} => {'BMI_High'} | support: 0.14, confidence: 0.78\n",
      "{'Insulin_High', 'Outcome_Positive'} => {'SkinThickness_High', 'Glucose_High'} | support: 0.11, confidence: 0.77\n",
      "{'SkinThickness_High', 'Insulin_High', 'Outcome_Positive'} => {'Glucose_High'} | support: 0.11, confidence: 0.85\n",
      "{'SkinThickness_High', 'Outcome_Positive', 'Glucose_High'} => {'Insulin_High'} | support: 0.11, confidence: 0.74\n",
      "{'Insulin_High', 'Outcome_Positive', 'Glucose_High'} => {'SkinThickness_High'} | support: 0.11, confidence: 0.91\n",
      "{'Insulin_High'} => {'BMI_High'} | support: 0.23, confidence: 0.74\n",
      "{'DiabetesPedigree_High', 'Outcome_Positive'} => {'SkinThickness_High'} | support: 0.12, confidence: 0.71\n",
      "{'Outcome_Positive'} => {'Glucose_High'} | support: 0.25, confidence: 0.73\n",
      "{'Insulin_High', 'Outcome_Positive'} => {'BMI_High', 'SkinThickness_High', 'Glucose_High'} | support: 0.10, confidence: 0.71\n",
      "{'BMI_High', 'Insulin_High', 'Outcome_Positive'} => {'SkinThickness_High', 'Glucose_High'} | support: 0.10, confidence: 0.83\n",
      "{'SkinThickness_High', 'Insulin_High', 'Outcome_Positive'} => {'BMI_High', 'Glucose_High'} | support: 0.10, confidence: 0.78\n",
      "{'Insulin_High', 'Outcome_Positive', 'Glucose_High'} => {'BMI_High', 'SkinThickness_High'} | support: 0.10, confidence: 0.84\n",
      "{'BMI_High', 'Insulin_High', 'Outcome_Positive', 'SkinThickness_High'} => {'Glucose_High'} | support: 0.10, confidence: 0.86\n",
      "{'BMI_High', 'Insulin_High', 'Outcome_Positive', 'Glucose_High'} => {'SkinThickness_High'} | support: 0.10, confidence: 0.96\n",
      "{'BMI_High', 'SkinThickness_High', 'Outcome_Positive', 'Glucose_High'} => {'Insulin_High'} | support: 0.10, confidence: 0.75\n",
      "{'SkinThickness_High', 'Insulin_High', 'Outcome_Positive', 'Glucose_High'} => {'BMI_High'} | support: 0.10, confidence: 0.92\n",
      "{'Insulin_High', 'Outcome_Positive'} => {'SkinThickness_High'} | support: 0.13, confidence: 0.91\n",
      "{'SkinThickness_High', 'Outcome_Positive'} => {'BMI_High'} | support: 0.19, confidence: 0.89\n",
      "{'Age_High', 'Outcome_Positive'} => {'BMI_High'} | support: 0.10, confidence: 0.78\n",
      "{'SkinThickness_High', 'BloodPressure_High'} => {'BMI_High'} | support: 0.11, confidence: 0.90\n",
      "{'Insulin_High', 'Outcome_Positive'} => {'BMI_High'} | support: 0.12, confidence: 0.86\n",
      "{'Insulin_High', 'DiabetesPedigree_High'} => {'Glucose_High'} | support: 0.11, confidence: 0.74\n",
      "{'Outcome_Positive', 'Pregnancies_Many'} => {'BMI_High'} | support: 0.11, confidence: 0.75\n",
      "{'SkinThickness_High', 'DiabetesPedigree_High', 'Glucose_High'} => {'BMI_High'} | support: 0.11, confidence: 0.85\n",
      "{'BMI_High', 'DiabetesPedigree_High', 'Glucose_High'} => {'SkinThickness_High'} | support: 0.11, confidence: 0.75\n",
      "{'SkinThickness_High', 'Age_High'} => {'BMI_High'} | support: 0.10, confidence: 0.81\n",
      "{'Insulin_High', 'DiabetesPedigree_High'} => {'SkinThickness_High'} | support: 0.13, confidence: 0.86\n",
      "{'Glucose_High'} => {'BMI_High'} | support: 0.32, confidence: 0.72\n",
      "{'Insulin_High', 'DiabetesPedigree_High'} => {'SkinThickness_High', 'BMI_High'} | support: 0.11, confidence: 0.71\n",
      "{'SkinThickness_High', 'Insulin_High', 'DiabetesPedigree_High'} => {'BMI_High'} | support: 0.11, confidence: 0.83\n",
      "{'BMI_High', 'Insulin_High', 'DiabetesPedigree_High'} => {'SkinThickness_High'} | support: 0.11, confidence: 0.96\n",
      "{'Pregnancies_Many', 'Glucose_High'} => {'BMI_High'} | support: 0.11, confidence: 0.72\n",
      "{'Age_High', 'Outcome_Positive'} => {'Glucose_High'} | support: 0.10, confidence: 0.76\n",
      "{'SkinThickness_High', 'BMI_High', 'Outcome_Positive'} => {'Glucose_High'} | support: 0.14, confidence: 0.74\n",
      "{'SkinThickness_High', 'Outcome_Positive', 'Glucose_High'} => {'BMI_High'} | support: 0.14, confidence: 0.91\n",
      "{'DiabetesPedigree_High', 'Outcome_Positive'} => {'BMI_High'} | support: 0.14, confidence: 0.85\n",
      "{'BMI_High', 'Outcome_Positive'} => {'Glucose_High'} | support: 0.21, confidence: 0.75\n",
      "{'Outcome_Positive', 'Glucose_High'} => {'BMI_High'} | support: 0.21, confidence: 0.84\n",
      "{'Insulin_High', 'Outcome_Positive'} => {'BMI_High', 'Glucose_High'} | support: 0.11, confidence: 0.74\n",
      "{'BMI_High', 'Insulin_High', 'Outcome_Positive'} => {'Glucose_High'} | support: 0.11, confidence: 0.86\n",
      "{'Insulin_High', 'Outcome_Positive', 'Glucose_High'} => {'BMI_High'} | support: 0.11, confidence: 0.87\n",
      "{'BMI_High', 'DiabetesPedigree_High', 'Outcome_Positive'} => {'Glucose_High'} | support: 0.10, confidence: 0.75\n",
      "{'BMI_High', 'DiabetesPedigree_High', 'Glucose_High'} => {'Outcome_Positive'} | support: 0.10, confidence: 0.72\n",
      "{'DiabetesPedigree_High', 'Outcome_Positive', 'Glucose_High'} => {'BMI_High'} | support: 0.10, confidence: 0.89\n",
      "{'SkinThickness_High', 'Glucose_High'} => {'BMI_High'} | support: 0.21, confidence: 0.81\n",
      "{'SkinThickness_High', 'Glucose_High'} => {'Insulin_High'} | support: 0.18, confidence: 0.70\n",
      "{'Insulin_High', 'Glucose_High'} => {'SkinThickness_High'} | support: 0.18, confidence: 0.84\n",
      "{'BloodPressure_High'} => {'BMI_High'} | support: 0.17, confidence: 0.77\n",
      "{'DiabetesPedigree_High', 'Outcome_Positive'} => {'Glucose_High'} | support: 0.12, confidence: 0.71\n",
      "{'SkinThickness_High', 'Pregnancies_Many'} => {'BMI_High'} | support: 0.12, confidence: 0.77\n",
      "{'Outcome_Positive'} => {'BMI_High'} | support: 0.28, confidence: 0.81\n",
      "{'Insulin_High'} => {'SkinThickness_High'} | support: 0.26, confidence: 0.83\n",
      "{'SkinThickness_High', 'Outcome_Positive'} => {'Glucose_High'} | support: 0.15, confidence: 0.72\n",
      "{'BloodPressure_High', 'Glucose_High'} => {'BMI_High'} | support: 0.11, confidence: 0.81\n",
      "{'SkinThickness_High', 'Insulin_High'} => {'BMI_High'} | support: 0.22, confidence: 0.84\n",
      "{'BMI_High', 'Insulin_High'} => {'SkinThickness_High'} | support: 0.22, confidence: 0.93\n",
      "{'Insulin_High', 'Outcome_Positive'} => {'Glucose_High'} | support: 0.12, confidence: 0.85\n",
      "{'SkinThickness_High', 'DiabetesPedigree_High', 'Outcome_Positive'} => {'BMI_High'} | support: 0.11, confidence: 0.92\n",
      "{'BMI_High', 'DiabetesPedigree_High', 'Outcome_Positive'} => {'SkinThickness_High'} | support: 0.11, confidence: 0.77\n",
      "{'Insulin_High', 'Glucose_High'} => {'BMI_High', 'SkinThickness_High'} | support: 0.15, confidence: 0.70\n",
      "{'BMI_High', 'SkinThickness_High', 'Glucose_High'} => {'Insulin_High'} | support: 0.15, confidence: 0.72\n",
      "{'BMI_High', 'Insulin_High', 'Glucose_High'} => {'SkinThickness_High'} | support: 0.15, confidence: 0.92\n",
      "{'SkinThickness_High', 'Insulin_High', 'Glucose_High'} => {'BMI_High'} | support: 0.15, confidence: 0.84\n",
      "{'Insulin_High', 'DiabetesPedigree_High'} => {'BMI_High'} | support: 0.11, confidence: 0.74\n",
      "{'Insulin_High', 'Outcome_Positive'} => {'SkinThickness_High', 'BMI_High'} | support: 0.12, confidence: 0.83\n",
      "{'SkinThickness_High', 'Insulin_High', 'Outcome_Positive'} => {'BMI_High'} | support: 0.12, confidence: 0.91\n",
      "{'BMI_High', 'Insulin_High', 'Outcome_Positive'} => {'SkinThickness_High'} | support: 0.12, confidence: 0.97\n"
     ]
    }
   ],
   "source": [
    "print(\"Règles extraites :\")\n",
    "for antecedent, consequent, support, confidence in rules:\n",
    "    print(f\"{set(antecedent)} => {set(consequent)} | support: {support:.2f}, confidence: {confidence:.2f}\")\n"
   ]
  },
  {
   "cell_type": "code",
   "execution_count": 45,
   "metadata": {},
   "outputs": [],
   "source": [
    "df_bin = pd.DataFrame()\n",
    "\n",
    "df_bin['Glucose_High'] = df['Glucose'] > 120\n",
    "df_bin['BMI_High'] = df['BMI'] > 30\n",
    "df_bin['Age_High'] = df['Age'] > 40\n",
    "df_bin['Pregnancies_Many'] = df['Pregnancies'] > 5\n",
    "df_bin['BloodPressure_High'] = df['BloodPressure'] > 80\n",
    "df_bin['Insulin_High'] = df['Insulin'] > 100\n",
    "df_bin['SkinThickness_High'] = df['SkinThickness'] > 20\n",
    "df_bin['DiabetesPedigree_High'] = df['DiabetesPedigreeFunction'] > 0.5\n",
    "df_bin['Outcome_Positive'] = df['Outcome'] == 1"
   ]
  },
  {
   "cell_type": "code",
   "execution_count": 46,
   "metadata": {},
   "outputs": [
    {
     "name": "stdout",
     "output_type": "stream",
     "text": [
      "Règles d'association extraites :\n",
      "                                          antecedents  \\\n",
      "0                                      (Glucose_High)   \n",
      "1                                  (Outcome_Positive)   \n",
      "2                                (BloodPressure_High)   \n",
      "3                                      (Insulin_High)   \n",
      "4                                (SkinThickness_High)   \n",
      "..                                                ...   \n",
      "67  (SkinThickness_High, Insulin_High, Outcome_Pos...   \n",
      "68         (BMI_High, Insulin_High, Outcome_Positive)   \n",
      "69  (SkinThickness_High, Insulin_High, Outcome_Pos...   \n",
      "70     (Insulin_High, Outcome_Positive, Glucose_High)   \n",
      "71                   (Insulin_High, Outcome_Positive)   \n",
      "\n",
      "                                     consequents   support  confidence  \\\n",
      "0                                     (BMI_High)  0.324641    0.715517   \n",
      "1                                 (Glucose_High)  0.252934    0.726592   \n",
      "2                                     (BMI_High)  0.165580    0.769697   \n",
      "3                                     (BMI_High)  0.234681    0.740741   \n",
      "4                                     (BMI_High)  0.419817    0.774038   \n",
      "..                                           ...       ...         ...   \n",
      "67                                    (BMI_High)  0.102999    0.918605   \n",
      "68            (SkinThickness_High, Glucose_High)  0.102999    0.831579   \n",
      "69                      (BMI_High, Glucose_High)  0.102999    0.782178   \n",
      "70                (BMI_High, SkinThickness_High)  0.102999    0.840426   \n",
      "71  (BMI_High, SkinThickness_High, Glucose_High)  0.102999    0.711712   \n",
      "\n",
      "        lift  \n",
      "0   1.155372  \n",
      "1   1.601425  \n",
      "2   1.242858  \n",
      "3   1.196101  \n",
      "4   1.249868  \n",
      "..       ...  \n",
      "67  1.483305  \n",
      "68  3.189105  \n",
      "69  2.409360  \n",
      "70  2.001883  \n",
      "71  3.348975  \n",
      "\n",
      "[72 rows x 5 columns]\n"
     ]
    }
   ],
   "source": [
    "from mlxtend.frequent_patterns import apriori, association_rules\n",
    "\n",
    "frequent_itemsets = apriori(df_bin, min_support=0.1, use_colnames=True)\n",
    "\n",
    "rules = association_rules(frequent_itemsets, metric=\"confidence\", min_threshold=0.7)\n",
    "\n",
    "print(\"Règles d'association extraites :\")\n",
    "print(rules[['antecedents', 'consequents', 'support', 'confidence', 'lift']])\n"
   ]
  },
  {
   "cell_type": "code",
   "execution_count": 47,
   "metadata": {},
   "outputs": [
    {
     "name": "stdout",
     "output_type": "stream",
     "text": [
      "\n",
      "Règles liées au diabète :\n",
      "                                        antecedents         consequents  \\\n",
      "50  (BMI_High, DiabetesPedigree_High, Glucose_High)  (Outcome_Positive)   \n",
      "\n",
      "     support  confidence      lift  \n",
      "50  0.102999    0.724771  2.082019  \n"
     ]
    }
   ],
   "source": [
    "diabetes_rules = rules[rules['consequents'].apply(lambda x: 'Outcome_Positive' in str(x))]\n",
    "\n",
    "print(\"\\nRègles liées au diabète :\")\n",
    "print(diabetes_rules[['antecedents', 'consequents', 'support', 'confidence', 'lift']])"
   ]
  }
 ],
 "metadata": {
  "kernelspec": {
   "display_name": ".venv",
   "language": "python",
   "name": "python3"
  },
  "language_info": {
   "codemirror_mode": {
    "name": "ipython",
    "version": 3
   },
   "file_extension": ".py",
   "mimetype": "text/x-python",
   "name": "python",
   "nbconvert_exporter": "python",
   "pygments_lexer": "ipython3",
   "version": "3.12.4"
  }
 },
 "nbformat": 4,
 "nbformat_minor": 2
}
